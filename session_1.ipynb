{
 "cells": [
  {
   "cell_type": "code",
   "execution_count": 3,
   "metadata": {},
   "outputs": [
    {
     "name": "stdout",
     "output_type": "stream",
     "text": [
      "Collecting pandas_datareader"
     ]
    },
    {
     "name": "stderr",
     "output_type": "stream",
     "text": [
      "\n",
      "[notice] A new release of pip is available: 23.3.1 -> 24.0\n",
      "[notice] To update, run: python.exe -m pip install --upgrade pip\n"
     ]
    },
    {
     "name": "stdout",
     "output_type": "stream",
     "text": [
      "\n",
      "  Downloading pandas_datareader-0.10.0-py3-none-any.whl.metadata (2.9 kB)\n",
      "Requirement already satisfied: lxml in c:\\users\\a.abdollahi.ronak\\appdata\\local\\programs\\python\\python310\\lib\\site-packages (from pandas_datareader) (4.9.2)\n",
      "Requirement already satisfied: pandas>=0.23 in c:\\users\\a.abdollahi.ronak\\appdata\\local\\programs\\python\\python310\\lib\\site-packages (from pandas_datareader) (2.0.3)\n",
      "Requirement already satisfied: requests>=2.19.0 in c:\\users\\a.abdollahi.ronak\\appdata\\local\\programs\\python\\python310\\lib\\site-packages (from pandas_datareader) (2.31.0)\n",
      "Requirement already satisfied: python-dateutil>=2.8.2 in c:\\users\\a.abdollahi.ronak\\appdata\\local\\programs\\python\\python310\\lib\\site-packages (from pandas>=0.23->pandas_datareader) (2.8.2)\n",
      "Requirement already satisfied: pytz>=2020.1 in c:\\users\\a.abdollahi.ronak\\appdata\\local\\programs\\python\\python310\\lib\\site-packages (from pandas>=0.23->pandas_datareader) (2023.3.post1)\n",
      "Requirement already satisfied: tzdata>=2022.1 in c:\\users\\a.abdollahi.ronak\\appdata\\local\\programs\\python\\python310\\lib\\site-packages (from pandas>=0.23->pandas_datareader) (2023.3)\n",
      "Requirement already satisfied: numpy>=1.21.0 in c:\\users\\a.abdollahi.ronak\\appdata\\local\\programs\\python\\python310\\lib\\site-packages (from pandas>=0.23->pandas_datareader) (1.24.4)\n",
      "Requirement already satisfied: charset-normalizer<4,>=2 in c:\\users\\a.abdollahi.ronak\\appdata\\local\\programs\\python\\python310\\lib\\site-packages (from requests>=2.19.0->pandas_datareader) (3.2.0)\n",
      "Requirement already satisfied: idna<4,>=2.5 in c:\\users\\a.abdollahi.ronak\\appdata\\local\\programs\\python\\python310\\lib\\site-packages (from requests>=2.19.0->pandas_datareader) (3.4)\n",
      "Requirement already satisfied: urllib3<3,>=1.21.1 in c:\\users\\a.abdollahi.ronak\\appdata\\local\\programs\\python\\python310\\lib\\site-packages (from requests>=2.19.0->pandas_datareader) (1.26.17)\n",
      "Requirement already satisfied: certifi>=2017.4.17 in c:\\users\\a.abdollahi.ronak\\appdata\\local\\programs\\python\\python310\\lib\\site-packages (from requests>=2.19.0->pandas_datareader) (2023.7.22)\n",
      "Requirement already satisfied: six>=1.5 in c:\\users\\a.abdollahi.ronak\\appdata\\local\\programs\\python\\python310\\lib\\site-packages (from python-dateutil>=2.8.2->pandas>=0.23->pandas_datareader) (1.16.0)\n",
      "Downloading pandas_datareader-0.10.0-py3-none-any.whl (109 kB)\n",
      "   ---------------------------------------- 0.0/109.5 kB ? eta -:--:--\n",
      "   ---------------------------------------- 0.0/109.5 kB ? eta -:--:--\n",
      "   --- ------------------------------------ 10.2/109.5 kB ? eta -:--:--\n",
      "   ------- ------------------------------- 20.5/109.5 kB 217.9 kB/s eta 0:00:01\n",
      "   ------- ------------------------------- 20.5/109.5 kB 217.9 kB/s eta 0:00:01\n",
      "   ------- ------------------------------- 20.5/109.5 kB 217.9 kB/s eta 0:00:01\n",
      "   ---------- ---------------------------- 30.7/109.5 kB 100.9 kB/s eta 0:00:01\n",
      "   -------------- ------------------------ 41.0/109.5 kB 131.3 kB/s eta 0:00:01\n",
      "   --------------------- ----------------- 61.4/109.5 kB 193.2 kB/s eta 0:00:01\n",
      "   ------------------------- ------------- 71.7/109.5 kB 206.9 kB/s eta 0:00:01\n",
      "   -------------------------------------- 109.5/109.5 kB 264.6 kB/s eta 0:00:00\n",
      "Installing collected packages: pandas_datareader\n",
      "Successfully installed pandas_datareader-0.10.0\n"
     ]
    }
   ],
   "source": [
    "!pip install pandas_datareader"
   ]
  },
  {
   "cell_type": "code",
   "execution_count": 4,
   "metadata": {},
   "outputs": [
    {
     "name": "stdout",
     "output_type": "stream",
     "text": [
      "Collecting plotly\n",
      "  Downloading plotly-5.21.0-py3-none-any.whl.metadata (7.1 kB)\n",
      "Requirement already satisfied: tenacity>=6.2.0 in c:\\users\\a.abdollahi.ronak\\appdata\\local\\programs\\python\\python310\\lib\\site-packages (from plotly) (8.2.3)\n",
      "Requirement already satisfied: packaging in c:\\users\\a.abdollahi.ronak\\appdata\\roaming\\python\\python310\\site-packages (from plotly) (23.1)\n",
      "Downloading plotly-5.21.0-py3-none-any.whl (15.7 MB)\n",
      "   ---------------------------------------- 0.0/15.7 MB ? eta -:--:--\n",
      "   ---------------------------------------- 0.0/15.7 MB ? eta -:--:--\n",
      "   ---------------------------------------- 0.0/15.7 MB ? eta -:--:--\n",
      "   ---------------------------------------- 0.0/15.7 MB ? eta -:--:--\n",
      "   ---------------------------------------- 0.0/15.7 MB ? eta -:--:--\n",
      "   ---------------------------------------- 0.1/15.7 MB 787.7 kB/s eta 0:00:20\n",
      "   ---------------------------------------- 0.1/15.7 MB 787.7 kB/s eta 0:00:20\n",
      "   ---------------------------------------- 0.1/15.7 MB 787.7 kB/s eta 0:00:20\n",
      "   ---------------------------------------- 0.2/15.7 MB 908.0 kB/s eta 0:00:18\n",
      "    --------------------------------------- 0.2/15.7 MB 811.5 kB/s eta 0:00:20\n",
      "    --------------------------------------- 0.3/15.7 MB 827.5 kB/s eta 0:00:19\n",
      "    --------------------------------------- 0.3/15.7 MB 827.5 kB/s eta 0:00:19\n",
      "    --------------------------------------- 0.3/15.7 MB 708.9 kB/s eta 0:00:22\n",
      "   - -------------------------------------- 0.5/15.7 MB 972.0 kB/s eta 0:00:16\n",
      "   - -------------------------------------- 0.5/15.7 MB 972.0 kB/s eta 0:00:16\n",
      "   - -------------------------------------- 0.5/15.7 MB 972.0 kB/s eta 0:00:16\n",
      "   -- ------------------------------------- 0.8/15.7 MB 1.4 MB/s eta 0:00:11\n",
      "   -- ------------------------------------- 1.0/15.7 MB 1.5 MB/s eta 0:00:11\n",
      "   -- ------------------------------------- 1.0/15.7 MB 1.5 MB/s eta 0:00:11\n",
      "   --- ------------------------------------ 1.2/15.7 MB 1.7 MB/s eta 0:00:09\n",
      "   --- ------------------------------------ 1.4/15.7 MB 1.7 MB/s eta 0:00:09\n",
      "   --- ------------------------------------ 1.4/15.7 MB 1.7 MB/s eta 0:00:09\n",
      "   --- ------------------------------------ 1.4/15.7 MB 1.6 MB/s eta 0:00:09\n",
      "   --- ------------------------------------ 1.4/15.7 MB 1.6 MB/s eta 0:00:10\n",
      "   ---- ----------------------------------- 1.8/15.7 MB 1.9 MB/s eta 0:00:08\n",
      "   ----- ---------------------------------- 2.0/15.7 MB 1.9 MB/s eta 0:00:08\n",
      "   ------ --------------------------------- 2.4/15.7 MB 2.2 MB/s eta 0:00:07\n",
      "   ------ --------------------------------- 2.5/15.7 MB 2.3 MB/s eta 0:00:06\n",
      "   ------- -------------------------------- 2.8/15.7 MB 2.4 MB/s eta 0:00:06\n",
      "   -------- ------------------------------- 3.2/15.7 MB 2.7 MB/s eta 0:00:05\n",
      "   --------- ------------------------------ 3.6/15.7 MB 2.9 MB/s eta 0:00:05\n",
      "   ---------- ----------------------------- 4.1/15.7 MB 3.1 MB/s eta 0:00:04\n",
      "   ----------- ---------------------------- 4.6/15.7 MB 3.4 MB/s eta 0:00:04\n",
      "   ------------ --------------------------- 5.0/15.7 MB 3.6 MB/s eta 0:00:04\n",
      "   -------------- ------------------------- 5.5/15.7 MB 3.8 MB/s eta 0:00:03\n",
      "   -------------- ------------------------- 5.9/15.7 MB 4.0 MB/s eta 0:00:03\n",
      "   --------------- ------------------------ 6.2/15.7 MB 4.2 MB/s eta 0:00:03\n",
      "   ---------------- ----------------------- 6.4/15.7 MB 4.1 MB/s eta 0:00:03\n",
      "   ----------------- ---------------------- 6.9/15.7 MB 4.3 MB/s eta 0:00:03\n",
      "   ------------------ --------------------- 7.4/15.7 MB 4.4 MB/s eta 0:00:02\n",
      "   ------------------- -------------------- 7.6/15.7 MB 4.5 MB/s eta 0:00:02\n",
      "   ------------------- -------------------- 7.6/15.7 MB 4.5 MB/s eta 0:00:02\n",
      "   ------------------- -------------------- 7.6/15.7 MB 4.5 MB/s eta 0:00:02\n",
      "   ------------------- -------------------- 7.6/15.7 MB 4.5 MB/s eta 0:00:02\n",
      "   ------------------- -------------------- 7.6/15.7 MB 4.5 MB/s eta 0:00:02\n",
      "   ------------------- -------------------- 7.6/15.7 MB 4.5 MB/s eta 0:00:02\n",
      "   ------------------- -------------------- 7.6/15.7 MB 3.9 MB/s eta 0:00:03\n",
      "   ------------------- -------------------- 7.8/15.7 MB 3.8 MB/s eta 0:00:03\n",
      "   -------------------- ------------------- 8.1/15.7 MB 3.9 MB/s eta 0:00:02\n",
      "   --------------------- ------------------ 8.5/15.7 MB 4.0 MB/s eta 0:00:02\n",
      "   ---------------------- ----------------- 8.9/15.7 MB 4.1 MB/s eta 0:00:02\n",
      "   ----------------------- ---------------- 9.3/15.7 MB 4.2 MB/s eta 0:00:02\n",
      "   ------------------------ --------------- 9.8/15.7 MB 4.3 MB/s eta 0:00:02\n",
      "   ------------------------- -------------- 10.1/15.7 MB 4.4 MB/s eta 0:00:02\n",
      "   -------------------------- ------------- 10.2/15.7 MB 4.3 MB/s eta 0:00:02\n",
      "   -------------------------- ------------- 10.6/15.7 MB 5.2 MB/s eta 0:00:01\n",
      "   ---------------------------- ----------- 11.0/15.7 MB 5.5 MB/s eta 0:00:01\n",
      "   ----------------------------- ---------- 11.5/15.7 MB 6.0 MB/s eta 0:00:01\n",
      "   ------------------------------ --------- 11.9/15.7 MB 6.4 MB/s eta 0:00:01\n",
      "   ------------------------------- -------- 12.4/15.7 MB 6.5 MB/s eta 0:00:01\n",
      "   -------------------------------- ------- 12.8/15.7 MB 6.8 MB/s eta 0:00:01\n",
      "   --------------------------------- ------ 13.3/15.7 MB 6.9 MB/s eta 0:00:01\n",
      "   ----------------------------------- ---- 13.8/15.7 MB 6.9 MB/s eta 0:00:01\n",
      "   ------------------------------------ --- 14.3/15.7 MB 6.9 MB/s eta 0:00:01\n",
      "   ------------------------------------ --- 14.5/15.7 MB 6.9 MB/s eta 0:00:01\n",
      "   -------------------------------------- - 15.2/15.7 MB 7.0 MB/s eta 0:00:01\n",
      "   ---------------------------------------  15.7/15.7 MB 6.9 MB/s eta 0:00:01\n",
      "   ---------------------------------------- 15.7/15.7 MB 6.7 MB/s eta 0:00:00\n",
      "Installing collected packages: plotly\n",
      "Successfully installed plotly-5.21.0\n"
     ]
    },
    {
     "name": "stderr",
     "output_type": "stream",
     "text": [
      "\n",
      "[notice] A new release of pip is available: 23.3.1 -> 24.0\n",
      "[notice] To update, run: python.exe -m pip install --upgrade pip\n"
     ]
    }
   ],
   "source": [
    "!pip install plotly"
   ]
  },
  {
   "cell_type": "code",
   "execution_count": 6,
   "metadata": {},
   "outputs": [],
   "source": [
    "# IMPORTS\n",
    "import numpy as np\n",
    "import pandas as pd\n",
    "\n",
    "#Fin Data Sources\n",
    "import yfinance as yf\n",
    "import pandas_datareader as pdr\n",
    "\n",
    "#Data viz\n",
    "import plotly.graph_objs as go\n",
    "import plotly.express as px\n",
    "\n",
    "import time\n",
    "from datetime import date"
   ]
  },
  {
   "cell_type": "code",
   "execution_count": 9,
   "metadata": {},
   "outputs": [
    {
     "name": "stdout",
     "output_type": "stream",
     "text": [
      "Year = 2024; month= 4; day=22\n",
      "Period for indexes: 1954-04-22 to 2024-04-22 \n"
     ]
    }
   ],
   "source": [
    "end = date.today()\n",
    "print(f'Year = {end.year}; month= {end.month}; day={end.day}')\n",
    "\n",
    "start = date(year=end.year-70, month=end.month, day=end.day)\n",
    "print(f'Period for indexes: {start} to {end} ')"
   ]
  },
  {
   "cell_type": "code",
   "execution_count": 14,
   "metadata": {},
   "outputs": [],
   "source": [
    "gdpc1 = pdr.DataReader(\"GDPC1\", \"fred\", start=start)\n",
    "gdpc1['gdpc1_us_yoy'] = gdpc1.GDPC1/gdpc1.GDPC1.shift(4)-1"
   ]
  },
  {
   "cell_type": "code",
   "execution_count": 65,
   "metadata": {},
   "outputs": [
    {
     "name": "stdout",
     "output_type": "stream",
     "text": [
      "2.5\n"
     ]
    }
   ],
   "source": [
    "# Q1 >> Average of YoY growth in 2023\n",
    "r1 = gdpc1.filter(like='2023', axis=0)\n",
    "print('%.1f' % (r1.gdpc1_us_yoy.mean() * 100))"
   ]
  },
  {
   "cell_type": "code",
   "execution_count": 69,
   "metadata": {},
   "outputs": [
    {
     "name": "stdout",
     "output_type": "stream",
     "text": [
      "-1.1\n"
     ]
    }
   ],
   "source": [
    "# Q2 >> Minimum value of dgs10-dgs2\n",
    "dgs2 = pdr.DataReader(\"DGS2\", \"fred\", start='2000-01-01')\n",
    "dgs10 = pdr.DataReader(\"DGS10\", \"fred\", start='2000-01-01')\n",
    "\n",
    "dgs_joined = dgs10.join(dgs2, on='DATE', how='inner')\n",
    "dgs_joined['DIFF'] = dgs10.DGS10 - dgs2.DGS2\n",
    "print('%.1f' % dgs_joined.DIFF.min())"
   ]
  },
  {
   "cell_type": "code",
   "execution_count": 108,
   "metadata": {},
   "outputs": [
    {
     "name": "stdout",
     "output_type": "stream",
     "text": [
      "[*********************100%***********************]  1 of 1 completed\n"
     ]
    },
    {
     "data": {
      "text/html": [
       "<div>\n",
       "<style scoped>\n",
       "    .dataframe tbody tr th:only-of-type {\n",
       "        vertical-align: middle;\n",
       "    }\n",
       "\n",
       "    .dataframe tbody tr th {\n",
       "        vertical-align: top;\n",
       "    }\n",
       "\n",
       "    .dataframe thead th {\n",
       "        text-align: right;\n",
       "    }\n",
       "</style>\n",
       "<table border=\"1\" class=\"dataframe\">\n",
       "  <thead>\n",
       "    <tr style=\"text-align: right;\">\n",
       "      <th></th>\n",
       "      <th>Open</th>\n",
       "      <th>High</th>\n",
       "      <th>Low</th>\n",
       "      <th>Close</th>\n",
       "      <th>Adj Close</th>\n",
       "      <th>Volume</th>\n",
       "      <th>adj_close_last_year</th>\n",
       "      <th>yoy_growth</th>\n",
       "    </tr>\n",
       "    <tr>\n",
       "      <th>Date</th>\n",
       "      <th></th>\n",
       "      <th></th>\n",
       "      <th></th>\n",
       "      <th></th>\n",
       "      <th></th>\n",
       "      <th></th>\n",
       "      <th></th>\n",
       "      <th></th>\n",
       "    </tr>\n",
       "  </thead>\n",
       "  <tbody>\n",
       "    <tr>\n",
       "      <th>2019-04-24</th>\n",
       "      <td>2934.000000</td>\n",
       "      <td>2936.830078</td>\n",
       "      <td>2926.050049</td>\n",
       "      <td>2927.250000</td>\n",
       "      <td>2927.250000</td>\n",
       "      <td>3468480000</td>\n",
       "      <td>NaN</td>\n",
       "      <td>NaN</td>\n",
       "    </tr>\n",
       "    <tr>\n",
       "      <th>2019-04-25</th>\n",
       "      <td>2928.989990</td>\n",
       "      <td>2933.100098</td>\n",
       "      <td>2912.840088</td>\n",
       "      <td>2926.169922</td>\n",
       "      <td>2926.169922</td>\n",
       "      <td>3440010000</td>\n",
       "      <td>NaN</td>\n",
       "      <td>NaN</td>\n",
       "    </tr>\n",
       "    <tr>\n",
       "      <th>2019-04-26</th>\n",
       "      <td>2925.810059</td>\n",
       "      <td>2939.879883</td>\n",
       "      <td>2917.560059</td>\n",
       "      <td>2939.879883</td>\n",
       "      <td>2939.879883</td>\n",
       "      <td>3264390000</td>\n",
       "      <td>NaN</td>\n",
       "      <td>NaN</td>\n",
       "    </tr>\n",
       "    <tr>\n",
       "      <th>2019-04-29</th>\n",
       "      <td>2940.580078</td>\n",
       "      <td>2949.520020</td>\n",
       "      <td>2939.350098</td>\n",
       "      <td>2943.030029</td>\n",
       "      <td>2943.030029</td>\n",
       "      <td>3150390000</td>\n",
       "      <td>NaN</td>\n",
       "      <td>NaN</td>\n",
       "    </tr>\n",
       "    <tr>\n",
       "      <th>2019-04-30</th>\n",
       "      <td>2937.139893</td>\n",
       "      <td>2948.219971</td>\n",
       "      <td>2924.110107</td>\n",
       "      <td>2945.830078</td>\n",
       "      <td>2945.830078</td>\n",
       "      <td>3939760000</td>\n",
       "      <td>NaN</td>\n",
       "      <td>NaN</td>\n",
       "    </tr>\n",
       "    <tr>\n",
       "      <th>...</th>\n",
       "      <td>...</td>\n",
       "      <td>...</td>\n",
       "      <td>...</td>\n",
       "      <td>...</td>\n",
       "      <td>...</td>\n",
       "      <td>...</td>\n",
       "      <td>...</td>\n",
       "      <td>...</td>\n",
       "    </tr>\n",
       "    <tr>\n",
       "      <th>2024-04-03</th>\n",
       "      <td>5194.370117</td>\n",
       "      <td>5228.750000</td>\n",
       "      <td>5194.370117</td>\n",
       "      <td>5211.490234</td>\n",
       "      <td>5211.490234</td>\n",
       "      <td>3703250000</td>\n",
       "      <td>4109.310059</td>\n",
       "      <td>0.268215</td>\n",
       "    </tr>\n",
       "    <tr>\n",
       "      <th>2024-04-04</th>\n",
       "      <td>5244.049805</td>\n",
       "      <td>5256.589844</td>\n",
       "      <td>5146.060059</td>\n",
       "      <td>5147.209961</td>\n",
       "      <td>5147.209961</td>\n",
       "      <td>4075680000</td>\n",
       "      <td>4124.509766</td>\n",
       "      <td>0.247957</td>\n",
       "    </tr>\n",
       "    <tr>\n",
       "      <th>2024-04-05</th>\n",
       "      <td>5158.950195</td>\n",
       "      <td>5222.180176</td>\n",
       "      <td>5157.209961</td>\n",
       "      <td>5204.339844</td>\n",
       "      <td>5204.339844</td>\n",
       "      <td>3386780000</td>\n",
       "      <td>4100.600098</td>\n",
       "      <td>0.269165</td>\n",
       "    </tr>\n",
       "    <tr>\n",
       "      <th>2024-04-08</th>\n",
       "      <td>5211.370117</td>\n",
       "      <td>5219.569824</td>\n",
       "      <td>5197.350098</td>\n",
       "      <td>5202.390137</td>\n",
       "      <td>5202.390137</td>\n",
       "      <td>3278180000</td>\n",
       "      <td>4090.379883</td>\n",
       "      <td>0.271860</td>\n",
       "    </tr>\n",
       "    <tr>\n",
       "      <th>2024-04-09</th>\n",
       "      <td>5217.029785</td>\n",
       "      <td>5224.810059</td>\n",
       "      <td>5160.779785</td>\n",
       "      <td>5209.910156</td>\n",
       "      <td>5209.910156</td>\n",
       "      <td>3400680000</td>\n",
       "      <td>4105.020020</td>\n",
       "      <td>0.269156</td>\n",
       "    </tr>\n",
       "  </tbody>\n",
       "</table>\n",
       "<p>1249 rows × 8 columns</p>\n",
       "</div>"
      ],
      "text/plain": [
       "                   Open         High          Low        Close    Adj Close  \\\n",
       "Date                                                                          \n",
       "2019-04-24  2934.000000  2936.830078  2926.050049  2927.250000  2927.250000   \n",
       "2019-04-25  2928.989990  2933.100098  2912.840088  2926.169922  2926.169922   \n",
       "2019-04-26  2925.810059  2939.879883  2917.560059  2939.879883  2939.879883   \n",
       "2019-04-29  2940.580078  2949.520020  2939.350098  2943.030029  2943.030029   \n",
       "2019-04-30  2937.139893  2948.219971  2924.110107  2945.830078  2945.830078   \n",
       "...                 ...          ...          ...          ...          ...   \n",
       "2024-04-03  5194.370117  5228.750000  5194.370117  5211.490234  5211.490234   \n",
       "2024-04-04  5244.049805  5256.589844  5146.060059  5147.209961  5147.209961   \n",
       "2024-04-05  5158.950195  5222.180176  5157.209961  5204.339844  5204.339844   \n",
       "2024-04-08  5211.370117  5219.569824  5197.350098  5202.390137  5202.390137   \n",
       "2024-04-09  5217.029785  5224.810059  5160.779785  5209.910156  5209.910156   \n",
       "\n",
       "                Volume  adj_close_last_year  yoy_growth  \n",
       "Date                                                     \n",
       "2019-04-24  3468480000                  NaN         NaN  \n",
       "2019-04-25  3440010000                  NaN         NaN  \n",
       "2019-04-26  3264390000                  NaN         NaN  \n",
       "2019-04-29  3150390000                  NaN         NaN  \n",
       "2019-04-30  3939760000                  NaN         NaN  \n",
       "...                ...                  ...         ...  \n",
       "2024-04-03  3703250000          4109.310059    0.268215  \n",
       "2024-04-04  4075680000          4124.509766    0.247957  \n",
       "2024-04-05  3386780000          4100.600098    0.269165  \n",
       "2024-04-08  3278180000          4090.379883    0.271860  \n",
       "2024-04-09  3400680000          4105.020020    0.269156  \n",
       "\n",
       "[1249 rows x 8 columns]"
      ]
     },
     "execution_count": 108,
     "metadata": {},
     "output_type": "execute_result"
    }
   ],
   "source": [
    "# Q3 >> Largest value of  S&P 500 and IPC Mexico indexes\n",
    "snp500 = yf.download(tickers=\"^GSPC\", period='5Y', interval='1d')\n",
    "\n",
    "snp500['adj_close_last_year'] = snp500['Adj Close'].shift(252)\n",
    "snp500['yoy_growth'] = snp500['Adj Close']/snp500['adj_close_last_year']-1\n",
    "\n",
    "snp500[(snp500.index >= '2019-04-09') & (snp500.index <= '2024-04-09')]"
   ]
  },
  {
   "cell_type": "code",
   "execution_count": 91,
   "metadata": {},
   "outputs": [
    {
     "name": "stdout",
     "output_type": "stream",
     "text": [
      "[*********************100%***********************]  1 of 1 completed\n"
     ]
    },
    {
     "data": {
      "text/html": [
       "<div>\n",
       "<style scoped>\n",
       "    .dataframe tbody tr th:only-of-type {\n",
       "        vertical-align: middle;\n",
       "    }\n",
       "\n",
       "    .dataframe tbody tr th {\n",
       "        vertical-align: top;\n",
       "    }\n",
       "\n",
       "    .dataframe thead th {\n",
       "        text-align: right;\n",
       "    }\n",
       "</style>\n",
       "<table border=\"1\" class=\"dataframe\">\n",
       "  <thead>\n",
       "    <tr style=\"text-align: right;\">\n",
       "      <th></th>\n",
       "      <th>Open</th>\n",
       "      <th>High</th>\n",
       "      <th>Low</th>\n",
       "      <th>Close</th>\n",
       "      <th>Adj Close</th>\n",
       "      <th>Volume</th>\n",
       "      <th>adj_close_last_year</th>\n",
       "      <th>yoy_growth</th>\n",
       "    </tr>\n",
       "    <tr>\n",
       "      <th>Date</th>\n",
       "      <th></th>\n",
       "      <th></th>\n",
       "      <th></th>\n",
       "      <th></th>\n",
       "      <th></th>\n",
       "      <th></th>\n",
       "      <th></th>\n",
       "      <th></th>\n",
       "    </tr>\n",
       "  </thead>\n",
       "  <tbody>\n",
       "    <tr>\n",
       "      <th>2019-04-23</th>\n",
       "      <td>45355.929688</td>\n",
       "      <td>45424.421875</td>\n",
       "      <td>44948.691406</td>\n",
       "      <td>45148.320312</td>\n",
       "      <td>45148.320312</td>\n",
       "      <td>132582400</td>\n",
       "      <td>NaN</td>\n",
       "      <td>NaN</td>\n",
       "    </tr>\n",
       "    <tr>\n",
       "      <th>2019-04-24</th>\n",
       "      <td>45112.128906</td>\n",
       "      <td>45186.269531</td>\n",
       "      <td>44666.250000</td>\n",
       "      <td>45045.328125</td>\n",
       "      <td>45045.328125</td>\n",
       "      <td>131485100</td>\n",
       "      <td>NaN</td>\n",
       "      <td>NaN</td>\n",
       "    </tr>\n",
       "    <tr>\n",
       "      <th>2019-04-25</th>\n",
       "      <td>45005.039062</td>\n",
       "      <td>45064.929688</td>\n",
       "      <td>44712.300781</td>\n",
       "      <td>45026.679688</td>\n",
       "      <td>45026.679688</td>\n",
       "      <td>125639200</td>\n",
       "      <td>NaN</td>\n",
       "      <td>NaN</td>\n",
       "    </tr>\n",
       "    <tr>\n",
       "      <th>2019-04-26</th>\n",
       "      <td>45074.699219</td>\n",
       "      <td>45208.371094</td>\n",
       "      <td>44769.351562</td>\n",
       "      <td>44974.968750</td>\n",
       "      <td>44974.968750</td>\n",
       "      <td>109775400</td>\n",
       "      <td>NaN</td>\n",
       "      <td>NaN</td>\n",
       "    </tr>\n",
       "    <tr>\n",
       "      <th>2019-04-29</th>\n",
       "      <td>44987.050781</td>\n",
       "      <td>45211.148438</td>\n",
       "      <td>44686.531250</td>\n",
       "      <td>44956.730469</td>\n",
       "      <td>44956.730469</td>\n",
       "      <td>99063800</td>\n",
       "      <td>NaN</td>\n",
       "      <td>NaN</td>\n",
       "    </tr>\n",
       "    <tr>\n",
       "      <th>...</th>\n",
       "      <td>...</td>\n",
       "      <td>...</td>\n",
       "      <td>...</td>\n",
       "      <td>...</td>\n",
       "      <td>...</td>\n",
       "      <td>...</td>\n",
       "      <td>...</td>\n",
       "      <td>...</td>\n",
       "    </tr>\n",
       "    <tr>\n",
       "      <th>2024-04-03</th>\n",
       "      <td>57547.191406</td>\n",
       "      <td>58086.421875</td>\n",
       "      <td>57300.109375</td>\n",
       "      <td>57503.390625</td>\n",
       "      <td>57503.390625</td>\n",
       "      <td>189285300</td>\n",
       "      <td>54198.941406</td>\n",
       "      <td>0.060969</td>\n",
       "    </tr>\n",
       "    <tr>\n",
       "      <th>2024-04-04</th>\n",
       "      <td>57539.468750</td>\n",
       "      <td>58219.500000</td>\n",
       "      <td>57514.179688</td>\n",
       "      <td>57882.761719</td>\n",
       "      <td>57882.761719</td>\n",
       "      <td>184739700</td>\n",
       "      <td>53904.000000</td>\n",
       "      <td>0.073812</td>\n",
       "    </tr>\n",
       "    <tr>\n",
       "      <th>2024-04-05</th>\n",
       "      <td>57805.191406</td>\n",
       "      <td>58227.839844</td>\n",
       "      <td>57678.609375</td>\n",
       "      <td>58092.441406</td>\n",
       "      <td>58092.441406</td>\n",
       "      <td>212252300</td>\n",
       "      <td>53896.351562</td>\n",
       "      <td>0.077855</td>\n",
       "    </tr>\n",
       "    <tr>\n",
       "      <th>2024-04-08</th>\n",
       "      <td>58021.660156</td>\n",
       "      <td>58192.320312</td>\n",
       "      <td>57749.441406</td>\n",
       "      <td>57989.941406</td>\n",
       "      <td>57989.941406</td>\n",
       "      <td>154641800</td>\n",
       "      <td>54176.011719</td>\n",
       "      <td>0.070399</td>\n",
       "    </tr>\n",
       "    <tr>\n",
       "      <th>2024-04-09</th>\n",
       "      <td>58010.371094</td>\n",
       "      <td>58298.769531</td>\n",
       "      <td>57492.058594</td>\n",
       "      <td>57571.148438</td>\n",
       "      <td>57571.148438</td>\n",
       "      <td>202213300</td>\n",
       "      <td>53498.390625</td>\n",
       "      <td>0.076129</td>\n",
       "    </tr>\n",
       "  </tbody>\n",
       "</table>\n",
       "<p>1251 rows × 8 columns</p>\n",
       "</div>"
      ],
      "text/plain": [
       "                    Open          High           Low         Close  \\\n",
       "Date                                                                 \n",
       "2019-04-23  45355.929688  45424.421875  44948.691406  45148.320312   \n",
       "2019-04-24  45112.128906  45186.269531  44666.250000  45045.328125   \n",
       "2019-04-25  45005.039062  45064.929688  44712.300781  45026.679688   \n",
       "2019-04-26  45074.699219  45208.371094  44769.351562  44974.968750   \n",
       "2019-04-29  44987.050781  45211.148438  44686.531250  44956.730469   \n",
       "...                  ...           ...           ...           ...   \n",
       "2024-04-03  57547.191406  58086.421875  57300.109375  57503.390625   \n",
       "2024-04-04  57539.468750  58219.500000  57514.179688  57882.761719   \n",
       "2024-04-05  57805.191406  58227.839844  57678.609375  58092.441406   \n",
       "2024-04-08  58021.660156  58192.320312  57749.441406  57989.941406   \n",
       "2024-04-09  58010.371094  58298.769531  57492.058594  57571.148438   \n",
       "\n",
       "               Adj Close     Volume  adj_close_last_year  yoy_growth  \n",
       "Date                                                                  \n",
       "2019-04-23  45148.320312  132582400                  NaN         NaN  \n",
       "2019-04-24  45045.328125  131485100                  NaN         NaN  \n",
       "2019-04-25  45026.679688  125639200                  NaN         NaN  \n",
       "2019-04-26  44974.968750  109775400                  NaN         NaN  \n",
       "2019-04-29  44956.730469   99063800                  NaN         NaN  \n",
       "...                  ...        ...                  ...         ...  \n",
       "2024-04-03  57503.390625  189285300         54198.941406    0.060969  \n",
       "2024-04-04  57882.761719  184739700         53904.000000    0.073812  \n",
       "2024-04-05  58092.441406  212252300         53896.351562    0.077855  \n",
       "2024-04-08  57989.941406  154641800         54176.011719    0.070399  \n",
       "2024-04-09  57571.148438  202213300         53498.390625    0.076129  \n",
       "\n",
       "[1251 rows x 8 columns]"
      ]
     },
     "execution_count": 91,
     "metadata": {},
     "output_type": "execute_result"
    }
   ],
   "source": [
    "ipc = yf.download(tickers=\"^MXX\", period='5Y', interval='1d')\n",
    "\n",
    "ipc['adj_close_last_year'] = ipc['Adj Close'].shift(252)\n",
    "ipc['yoy_growth'] = ipc['Adj Close']/ipc['adj_close_last_year']-1\n",
    "\n",
    "ipc[(ipc.index >= '2019-04-09') & (ipc.index <= '2024-04-09')]"
   ]
  },
  {
   "cell_type": "code",
   "execution_count": 92,
   "metadata": {},
   "outputs": [
    {
     "data": {
      "text/plain": [
       "0.7477966345823344"
      ]
     },
     "execution_count": 92,
     "metadata": {},
     "output_type": "execute_result"
    }
   ],
   "source": [
    "snp500[(snp500.index >= '2019-04-09') & (snp500.index <= '2024-04-09')]['yoy_growth'].max()"
   ]
  },
  {
   "cell_type": "code",
   "execution_count": 102,
   "metadata": {},
   "outputs": [
    {
     "name": "stdout",
     "output_type": "stream",
     "text": [
      "[*********************100%***********************]  1 of 1 completed\n",
      "0.21\n"
     ]
    }
   ],
   "source": [
    "# Q4 >> Largest ratio of Adj.Close\n",
    "sr = yf.download(tickers=\"2222.SR\", period='5Y', interval='1d')\n",
    "\n",
    "sr_max = sr[sr.index.year == 2023]['Adj Close'].max()\n",
    "sr_min = sr[sr.index.year == 2023]['Adj Close'].min()\n",
    "\n",
    "sr_ratio = (sr_max - sr_min)/sr_max\n",
    "print('%.2f' % sr_ratio)"
   ]
  },
  {
   "cell_type": "code",
   "execution_count": 103,
   "metadata": {},
   "outputs": [
    {
     "name": "stdout",
     "output_type": "stream",
     "text": [
      "[*********************100%***********************]  1 of 1 completed\n",
      "0.21\n"
     ]
    }
   ],
   "source": [
    "brk = yf.download(tickers=\"BRK-B\", period='5Y', interval='1d')\n",
    "\n",
    "brk_max = brk[brk.index.year == 2023]['Adj Close'].max()\n",
    "brk_min = brk[brk.index.year == 2023]['Adj Close'].min()\n",
    "\n",
    "brk_ratio = (brk_max - brk_min)/brk_max\n",
    "print('%.2f' % brk_ratio)"
   ]
  },
  {
   "cell_type": "code",
   "execution_count": 104,
   "metadata": {},
   "outputs": [
    {
     "name": "stdout",
     "output_type": "stream",
     "text": [
      "[*********************100%***********************]  1 of 1 completed\n",
      "0.37\n"
     ]
    }
   ],
   "source": [
    "aapl = yf.download(tickers=\"AAPL\", period='5Y', interval='1d')\n",
    "\n",
    "aapl_max = aapl[aapl.index.year == 2023]['Adj Close'].max()\n",
    "aapl_min = aapl[aapl.index.year == 2023]['Adj Close'].min()\n",
    "\n",
    "aapl_ratio = (aapl_max - aapl_min)/aapl_max\n",
    "print('%.2f' % aapl_ratio)"
   ]
  },
  {
   "cell_type": "code",
   "execution_count": 105,
   "metadata": {},
   "outputs": [
    {
     "name": "stdout",
     "output_type": "stream",
     "text": [
      "[*********************100%***********************]  1 of 1 completed\n",
      "0.42\n"
     ]
    }
   ],
   "source": [
    "msft = yf.download(tickers=\"MSFT\", period='5Y', interval='1d')\n",
    "\n",
    "msft_max = msft[msft.index.year == 2023]['Adj Close'].max()\n",
    "msft_min = msft[msft.index.year == 2023]['Adj Close'].min()\n",
    "\n",
    "msft_ratio = (msft_max - msft_min)/msft_max\n",
    "print('%.2f' % msft_ratio)"
   ]
  },
  {
   "cell_type": "code",
   "execution_count": 106,
   "metadata": {},
   "outputs": [
    {
     "name": "stdout",
     "output_type": "stream",
     "text": [
      "[*********************100%***********************]  1 of 1 completed\n",
      "0.39\n"
     ]
    }
   ],
   "source": [
    "goog = yf.download(tickers=\"GOOG\", period='5Y', interval='1d')\n",
    "\n",
    "goog_max = goog[goog.index.year == 2023]['Adj Close'].max()\n",
    "goog_min = goog[goog.index.year == 2023]['Adj Close'].min()\n",
    "\n",
    "goog_ratio = (goog_max - goog_min)/goog_max\n",
    "print('%.2f' % goog_ratio)"
   ]
  },
  {
   "cell_type": "code",
   "execution_count": 107,
   "metadata": {},
   "outputs": [
    {
     "name": "stdout",
     "output_type": "stream",
     "text": [
      "[*********************100%***********************]  1 of 1 completed\n",
      "0.28\n"
     ]
    }
   ],
   "source": [
    "jpm = yf.download(tickers=\"JPM\", period='5Y', interval='1d')\n",
    "\n",
    "jpm_max = jpm[jpm.index.year == 2023]['Adj Close'].max()\n",
    "jpm_min = jpm[jpm.index.year == 2023]['Adj Close'].min()\n",
    "\n",
    "jpm_ratio = (jpm_max - jpm_min)/jpm_max\n",
    "print('%.2f' % jpm_ratio)"
   ]
  },
  {
   "cell_type": "code",
   "execution_count": 135,
   "metadata": {},
   "outputs": [
    {
     "name": "stdout",
     "output_type": "stream",
     "text": [
      "2.8\n",
      "2.4\n",
      "0.0\n",
      "0.7\n",
      "0.5\n",
      "0.0\n"
     ]
    }
   ],
   "source": [
    "# Q5 >> Largest dividend yield\n",
    "tickers = yf.Tickers('2222.SR JPM GOOG MSFT AAPL BRK-B')\n",
    "\n",
    "sr_hist = tickers.tickers['2222.SR'].history(period='5y')\n",
    "sr_ratio = (sr_hist[sr_hist.index.year == 2023]['Dividends'].sum())/(sr[sr.index.year == 2023]['Adj Close'].iloc[-1])\n",
    "\n",
    "\n",
    "jpm_hist = tickers.tickers['JPM'].history(period='5y')\n",
    "jpm_ratio = (jpm_hist[jpm_hist.index.year == 2023]['Dividends'].sum())/(jpm[jpm.index.year == 2023]['Adj Close'].iloc[-1])\n",
    "\n",
    "\n",
    "goog_hist = tickers.tickers['GOOG'].history(period='5y')\n",
    "goog_ratio = (goog_hist[goog_hist.index.year == 2023]['Dividends'].sum())/(goog[goog.index.year == 2023]['Adj Close'].iloc[-1])\n",
    "\n",
    "\n",
    "msft_hist = tickers.tickers['MSFT'].history(period='5y')\n",
    "msft_ratio = (msft_hist[msft_hist.index.year == 2023]['Dividends'].sum())/(msft[msft.index.year == 2023]['Adj Close'].iloc[-1])\n",
    "\n",
    "\n",
    "aapl_hist = tickers.tickers['AAPL'].history(period='5y')\n",
    "aapl_ratio = (aapl_hist[aapl_hist.index.year == 2023]['Dividends'].sum())/(aapl[aapl.index.year == 2023]['Adj Close'].iloc[-1])\n",
    "\n",
    "\n",
    "brk_hist = tickers.tickers['BRK-B'].history(period='5y')\n",
    "brk_ratio = (brk_hist[brk_hist.index.year == 2023]['Dividends'].sum())/(brk[brk.index.year == 2023]['Adj Close'].iloc[-1])\n",
    "\n",
    "\n",
    "print('%.1f' % (sr_ratio*100))\n",
    "print('%.1f' % (jpm_ratio*100))\n",
    "print('%.1f' % (goog_ratio*100))\n",
    "print('%.1f' % (msft_ratio*100))\n",
    "print('%.1f' % (aapl_ratio*100))\n",
    "print('%.1f' % (brk_ratio*100))"
   ]
  }
 ],
 "metadata": {
  "kernelspec": {
   "display_name": "Python 3",
   "language": "python",
   "name": "python3"
  },
  "language_info": {
   "codemirror_mode": {
    "name": "ipython",
    "version": 3
   },
   "file_extension": ".py",
   "mimetype": "text/x-python",
   "name": "python",
   "nbconvert_exporter": "python",
   "pygments_lexer": "ipython3",
   "version": "3.10.10"
  }
 },
 "nbformat": 4,
 "nbformat_minor": 2
}
